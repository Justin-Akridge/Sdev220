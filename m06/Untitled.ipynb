{
 "cells": [
  {
   "cell_type": "code",
   "execution_count": 12,
   "id": "c838d63f",
   "metadata": {},
   "outputs": [
    {
     "name": "stdout",
     "output_type": "stream",
     "text": [
      "2023-04-27\n",
      "2023-04-27 00:00:00\n"
     ]
    }
   ],
   "source": [
    "#13.1 Write the current date as a string to the text file today.txt.\n",
    "import datetime\n",
    "current = datetime.datetime.now()\n",
    "date = current.strftime(\"%Y-%m-%d\")\n",
    "with open(\"today.txt\", \"w\") as file:\n",
    "    file.write(date)\n",
    "print(date)\n",
    "#13.2 Read the text file today.txt into the string today_string.\n",
    "with open(\"today.txt\", \"r\") as file:\n",
    "    today_string = file.read()\n",
    "    \n",
    "#13.3 Parse the date from today_string.\n",
    "today_date = datetime.datetime.strptime(today_string, \"%Y-%m-%d\")\n",
    "print(today_date)\n"
   ]
  },
  {
   "cell_type": "code",
   "execution_count": 8,
   "id": "8834804e",
   "metadata": {},
   "outputs": [
    {
     "name": "stdout",
     "output_type": "stream",
     "text": [
      "Process 2. waiting for 0.002 seconds at 2023-04-27 19:54:05.424950\n",
      "Process 1. waiting for 0.165 seconds at 2023-04-27 19:54:05.582041\n",
      "Process 3. waiting for 0.670 seconds at 2023-04-27 19:54:06.098793\n"
     ]
    }
   ],
   "source": [
    "#15.1 Use multiprocessing to create three separate processes\n",
    "import multiprocessing\n",
    "import random\n",
    "import time\n",
    "import datetime\n",
    "\n",
    "def print_current_time():\n",
    "    wait = random.uniform(0, 1)\n",
    "    time.sleep(wait)\n",
    "    current_time = datetime.datetime.now() \n",
    "    print(f\"{multiprocessing.current_process().name}. waiting for {wait:.3f} seconds at {current_time}\")\n",
    "\n",
    "if __name__ == '__main__':\n",
    "    processes = [multiprocessing.Process(target=print_current_time, name=f\"Process {i}\") for i in range(1, 4)]\n",
    "    for process in processes:\n",
    "        process.start()\n",
    "    for process in processes:\n",
    "        process.join()\n",
    "\n",
    "\n",
    "\n"
   ]
  }
 ],
 "metadata": {
  "kernelspec": {
   "display_name": "Python 3 (ipykernel)",
   "language": "python",
   "name": "python3"
  },
  "language_info": {
   "codemirror_mode": {
    "name": "ipython",
    "version": 3
   },
   "file_extension": ".py",
   "mimetype": "text/x-python",
   "name": "python",
   "nbconvert_exporter": "python",
   "pygments_lexer": "ipython3",
   "version": "3.10.6"
  }
 },
 "nbformat": 4,
 "nbformat_minor": 5
}
