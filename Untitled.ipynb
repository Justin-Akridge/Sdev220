{
 "cells": [
  {
   "cell_type": "code",
   "execution_count": 23,
   "id": "19075cd0",
   "metadata": {},
   "outputs": [
    {
     "name": "stdout",
     "output_type": "stream",
     "text": [
      "['mozzarella', 'cinderella', 'salmonella']\n",
      "['mozzarella', 'Cinderella', 'salmonella']\n",
      "['MOZZARELLA', 'Cinderella', 'salmonella']\n",
      "['MOZZARELLA', 'Cinderella']\n"
     ]
    }
   ],
   "source": [
    "# 7.4\n",
    "mylist = [\"mozzarella\", \"cinderella\", \"salmonella\"]\n",
    "print(mylist)\n",
    "\n",
    "# 7.5\n",
    "mylist[1] = mylist[1].capitalize()\n",
    "print(mylist)\n",
    "# The the first letter of the element was capitalized\n",
    "\n",
    "# 7.6\n",
    "mylist[0] = mylist[0].upper()\n",
    "print(mylist)\n",
    "\n",
    "# 7.7 \n",
    "del mylist[2]\n",
    "print(mylist)"
   ]
  },
  {
   "cell_type": "code",
   "execution_count": 25,
   "id": "ca1bf02e",
   "metadata": {},
   "outputs": [
    {
     "name": "stdout",
     "output_type": "stream",
     "text": [
      "['Harry', 'Ron', 'Hermione']\n"
     ]
    }
   ],
   "source": [
    "# 9.2\n",
    "def good():\n",
    "    return ['Harry', 'Ron', 'Hermione']\n",
    "print(good())"
   ]
  },
  {
   "cell_type": "code",
   "execution_count": 33,
   "id": "c815e0eb",
   "metadata": {},
   "outputs": [
    {
     "name": "stdout",
     "output_type": "stream",
     "text": [
      "[1, 3, 5, 7, 9]\n",
      "5\n"
     ]
    }
   ],
   "source": [
    "# 9.3\n",
    "def good():\n",
    "    def get_odds():\n",
    "        odd_numbers = []\n",
    "        for i in range(10):\n",
    "            if i % 2 == 1:\n",
    "                odd_numbers.append(i)\n",
    "        return odd_numbers\n",
    "    return get_odds()\n",
    "\n",
    "odd_numbers = good()\n",
    "for i in range(len(odd_numbers)):\n",
    "    if i == 2:\n",
    "        print(odd_numbers[2])\n"
   ]
  },
  {
   "cell_type": "code",
   "execution_count": null,
   "id": "771895a0",
   "metadata": {},
   "outputs": [],
   "source": []
  }
 ],
 "metadata": {
  "kernelspec": {
   "display_name": "Python 3 (ipykernel)",
   "language": "python",
   "name": "python3"
  },
  "language_info": {
   "codemirror_mode": {
    "name": "ipython",
    "version": 3
   },
   "file_extension": ".py",
   "mimetype": "text/x-python",
   "name": "python",
   "nbconvert_exporter": "python",
   "pygments_lexer": "ipython3",
   "version": "3.10.9"
  }
 },
 "nbformat": 4,
 "nbformat_minor": 5
}
