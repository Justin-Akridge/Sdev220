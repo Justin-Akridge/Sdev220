{
 "cells": [
  {
   "cell_type": "code",
   "execution_count": null,
   "id": "18954505",
   "metadata": {},
   "outputs": [],
   "source": [
    "# 11.1\n",
    "from zoo import hours\n",
    "hours()\n"
   ]
  },
  {
   "cell_type": "code",
   "execution_count": null,
   "id": "41e25256",
   "metadata": {},
   "outputs": [],
   "source": [
    "# 11.2\n",
    "import zoo as menagerie\n",
    "menagerie.hours()"
   ]
  },
  {
   "cell_type": "code",
   "execution_count": null,
   "id": "34578457",
   "metadata": {},
   "outputs": [],
   "source": [
    "import sqlite3\n",
    "\n",
    "conn = sqlite3.connect('books.db')\n",
    "\n",
    "c = conn.cursor()\n",
    "\n",
    "c.execute('''CREATE TABLE books\n",
    "             (title text, author text, year integer)''')\n",
    "\n",
    "conn.commit()\n",
    "conn.close()\n"
   ]
  },
  {
   "cell_type": "code",
   "execution_count": null,
   "id": "9756ee44",
   "metadata": {},
   "outputs": [],
   "source": [
    "import sqlalchemy, create_engine\n",
    "conn = sa.create_engine('sqlite://books.db')\n",
    "\n",
    "tab = select([book_table.c.title]).order_by(book_table.c.title)\n",
    "with engine.connect() as conn:\n",
    "    results = conn.execute(tab).fetchall()\n",
    "    for row in results:\n",
    "        print(row[0])"
   ]
  }
 ],
 "metadata": {
  "kernelspec": {
   "display_name": "Python 3 (ipykernel)",
   "language": "python",
   "name": "python3"
  },
  "language_info": {
   "codemirror_mode": {
    "name": "ipython",
    "version": 3
   },
   "file_extension": ".py",
   "mimetype": "text/x-python",
   "name": "python",
   "nbconvert_exporter": "python",
   "pygments_lexer": "ipython3",
   "version": "3.10.6"
  }
 },
 "nbformat": 4,
 "nbformat_minor": 5
}
