{
 "cells": [
  {
   "cell_type": "code",
   "execution_count": 3,
   "id": "eb695e44",
   "metadata": {},
   "outputs": [
    {
     "data": {
      "text/plain": [
       "'Open 9-5 daily'"
      ]
     },
     "execution_count": 3,
     "metadata": {},
     "output_type": "execute_result"
    }
   ],
   "source": [
    "# 11.1\n",
    "from zoo import hours\n",
    "hours()\n",
    "\n"
   ]
  },
  {
   "cell_type": "code",
   "execution_count": 5,
   "id": "781e6e5a",
   "metadata": {},
   "outputs": [
    {
     "data": {
      "text/plain": [
       "'Open 9-5 daily'"
      ]
     },
     "execution_count": 5,
     "metadata": {},
     "output_type": "execute_result"
    }
   ],
   "source": [
    "# 11.2\n",
    "import zoo as menagerie\n",
    "menagerie.hours()"
   ]
  },
  {
   "cell_type": "code",
   "execution_count": 2,
   "id": "4f0a4aa6",
   "metadata": {},
   "outputs": [
    {
     "ename": "OperationalError",
     "evalue": "table books already exists",
     "output_type": "error",
     "traceback": [
      "\u001b[0;31m---------------------------------------------------------------------------\u001b[0m",
      "\u001b[0;31mOperationalError\u001b[0m                          Traceback (most recent call last)",
      "Cell \u001b[0;32mIn[2], line 10\u001b[0m\n\u001b[1;32m      7\u001b[0m c \u001b[38;5;241m=\u001b[39m conn\u001b[38;5;241m.\u001b[39mcursor()\n\u001b[1;32m      9\u001b[0m \u001b[38;5;66;03m# Create the books table with the title, author, and year fields\u001b[39;00m\n\u001b[0;32m---> 10\u001b[0m \u001b[43mc\u001b[49m\u001b[38;5;241;43m.\u001b[39;49m\u001b[43mexecute\u001b[49m\u001b[43m(\u001b[49m\u001b[38;5;124;43m'''\u001b[39;49m\u001b[38;5;124;43mCREATE TABLE books\u001b[39;49m\n\u001b[1;32m     11\u001b[0m \u001b[38;5;124;43m             (title text, author text, year integer)\u001b[39;49m\u001b[38;5;124;43m'''\u001b[39;49m\u001b[43m)\u001b[49m\n\u001b[1;32m     13\u001b[0m \u001b[38;5;66;03m# Commit the changes and closethe connection\u001b[39;00m\n\u001b[1;32m     14\u001b[0m conn\u001b[38;5;241m.\u001b[39mcommit()\n",
      "\u001b[0;31mOperationalError\u001b[0m: table books already exists"
     ]
    }
   ],
   "source": [
    "import sqlite3\n",
    "\n",
    "conn = sqlite3.connect('books.db')\n",
    "\n",
    "c = conn.cursor()\n",
    "\n",
    "c.execute('''CREATE TABLE books\n",
    "             (title text, author text, year integer)''')\n",
    "\n",
    "conn.commit()\n",
    "conn.close()\n"
   ]
  },
  {
   "cell_type": "code",
   "execution_count": 6,
   "id": "643400a6",
   "metadata": {},
   "outputs": [
    {
     "ename": "ModuleNotFoundError",
     "evalue": "No module named 'create_engine'",
     "output_type": "error",
     "traceback": [
      "\u001b[0;31m---------------------------------------------------------------------------\u001b[0m",
      "\u001b[0;31mModuleNotFoundError\u001b[0m                       Traceback (most recent call last)",
      "Cell \u001b[0;32mIn[6], line 1\u001b[0m\n\u001b[0;32m----> 1\u001b[0m \u001b[38;5;28;01mimport\u001b[39;00m \u001b[38;5;21;01msqlalchemy\u001b[39;00m\u001b[38;5;241m,\u001b[39m \u001b[38;5;21;01mcreate_engine\u001b[39;00m\n\u001b[1;32m      2\u001b[0m conn \u001b[38;5;241m=\u001b[39m sa\u001b[38;5;241m.\u001b[39mcreate_engine(\u001b[38;5;124m'\u001b[39m\u001b[38;5;124msqlite://books.db\u001b[39m\u001b[38;5;124m'\u001b[39m)\n\u001b[1;32m      4\u001b[0m stmt \u001b[38;5;241m=\u001b[39m select([book_table\u001b[38;5;241m.\u001b[39mc\u001b[38;5;241m.\u001b[39mtitle])\u001b[38;5;241m.\u001b[39morder_by(book_table\u001b[38;5;241m.\u001b[39mc\u001b[38;5;241m.\u001b[39mtitle)\n",
      "\u001b[0;31mModuleNotFoundError\u001b[0m: No module named 'create_engine'"
     ]
    }
   ],
   "source": [
    "import sqlalchemy, create_engine\n",
    "conn = sa.create_engine('sqlite://books.db')\n",
    "\n",
    "tab = select([book_table.c.title]).order_by(book_table.c.title)\n",
    "with engine.connect() as conn:\n",
    "    results = conn.execute(tab).fetchall()\n",
    "    for row in results:\n",
    "        print(row[0])\n"
   ]
  },
  {
   "cell_type": "code",
   "execution_count": null,
   "id": "40d0df36",
   "metadata": {},
   "outputs": [],
   "source": []
  },
  {
   "cell_type": "code",
   "execution_count": null,
   "id": "dbd841e8",
   "metadata": {},
   "outputs": [],
   "source": []
  }
 ],
 "metadata": {
  "kernelspec": {
   "display_name": "Python 3 (ipykernel)",
   "language": "python",
   "name": "python3"
  },
  "language_info": {
   "codemirror_mode": {
    "name": "ipython",
    "version": 3
   },
   "file_extension": ".py",
   "mimetype": "text/x-python",
   "name": "python",
   "nbconvert_exporter": "python",
   "pygments_lexer": "ipython3",
   "version": "3.10.6"
  }
 },
 "nbformat": 4,
 "nbformat_minor": 5
}
